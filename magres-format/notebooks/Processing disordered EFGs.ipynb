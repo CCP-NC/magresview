{
 "metadata": {
  "name": ""
 },
 "nbformat": 3,
 "nbformat_minor": 0,
 "worksheets": [
  {
   "cells": [
    {
     "cell_type": "markdown",
     "metadata": {},
     "source": [
      "Processing disordered EFGs in Gehlenite\n",
      "======================================="
     ]
    },
    {
     "cell_type": "markdown",
     "metadata": {},
     "source": [
      "Load the bits from the `magres` module that we need:"
     ]
    },
    {
     "cell_type": "code",
     "collapsed": false,
     "input": [
      "from magres.utils import load_all_magres\n",
      "from magres.atoms import MagresAtoms"
     ],
     "language": "python",
     "metadata": {},
     "outputs": [],
     "prompt_number": 1
    },
    {
     "cell_type": "markdown",
     "metadata": {},
     "source": [
      "Randomly occupied structures\n",
      "----------------------------"
     ]
    },
    {
     "cell_type": "markdown",
     "metadata": {},
     "source": [
      "First, let's load all the structures with random T2 occupation into `orig_structures`."
     ]
    },
    {
     "cell_type": "code",
     "collapsed": false,
     "input": [
      "orig_structures = load_all_magres('/home/tim/Downloads/magres-doc/workshop/tutorial_disordered/files/orig')\n",
      "print \"We have {} structures\".format(len(orig_structures))"
     ],
     "language": "python",
     "metadata": {},
     "outputs": [
      {
       "output_type": "stream",
       "stream": "stdout",
       "text": [
        "We have 24 structures\n"
       ]
      }
     ],
     "prompt_number": 2
    },
    {
     "cell_type": "markdown",
     "metadata": {},
     "source": [
      "Let's have a look at the data. The following code will plot a histogram of the aluminium Cqs in all the structures."
     ]
    },
    {
     "cell_type": "code",
     "collapsed": false,
     "input": [
      "all_Cqs = []\n",
      "for atoms in orig_structures:\n",
      "    all_Cqs += atoms.species('Al').efg.Cq\n",
      "hist(all_Cqs, bins=20)"
     ],
     "language": "python",
     "metadata": {},
     "outputs": [
      {
       "metadata": {},
       "output_type": "pyout",
       "prompt_number": 3,
       "text": [
        "(array([  9,  63, 110, 189, 176, 131,  47,  17,   5,  11,   3,   1,   4,\n",
        "          7,   1,  25,  82, 166,  93,  12]),\n",
        " array([-14.27882086, -13.00807039, -11.73731993, -10.46656947,\n",
        "         -9.19581901,  -7.92506854,  -6.65431808,  -5.38356762,\n",
        "         -4.11281716,  -2.84206669,  -1.57131623,  -0.30056577,\n",
        "          0.97018469,   2.24093516,   3.51168562,   4.78243608,\n",
        "          6.05318654,   7.32393701,   8.59468747,   9.86543793,  11.13618839]),\n",
        " <a list of 20 Patch objects>)"
       ]
      },
      {
       "metadata": {},
       "output_type": "display_data",
       "png": "[encoded data removed]",
       "text": [
        "<matplotlib.figure.Figure at 0x5d3e790>"
       ]
      }
     ],
     "prompt_number": 3
    },
    {
     "cell_type": "markdown",
     "metadata": {},
     "source": [
      "Let's bin our Cqs by what time of aluminium site they're sitting on. First, we have T1 and T2 aluminium sites. T1 sites have four Al/Si neighbours and T2 sites have three Al/Si neighbours. Second, the number of silicon neighbours varies. T1 sites have between 0 and 4 silicon neighbours and T2 sites have 0 or 1 silicon neighbours, as one of those neighbours must be a T1 aluminium site. With this in mind, we'll make the following data structure to hold all our Cqs:"
     ]
    },
    {
     "cell_type": "code",
     "collapsed": false,
     "input": [
      "Al_Cqs1 = {'T1': {0: [], 1: [], 2: [], 3: [], 4: []},\n",
      "          'T2': {0: [], 1: []},}"
     ],
     "language": "python",
     "metadata": {},
     "outputs": [],
     "prompt_number": 4
    },
    {
     "cell_type": "markdown",
     "metadata": {},
     "source": [
      "Next, we'll loop over all the structures and aluminium atoms within them. We'll then count the number of Al/Si neighbours and number of Si neighbours they each have, classifying their site in the process. We'll then put the aluminium atom's Cq into the correct bin."
     ]
    },
    {
     "cell_type": "code",
     "collapsed": false,
     "input": [
      "def bin_sites(structures, bins):\n",
      "    # Loop over all calculations\n",
      "    for i, atoms in enumerate(structures):\n",
      "      print i,\n",
      "    \n",
      "      for Al_atom in atoms.species('Al'):\n",
      "        # Find all Al and Si neighbours within 3.5 angstroms of this atom\n",
      "        neighbours = atoms.species(['Al', 'Si']).within(Al_atom, 3.5)\n",
      "    \n",
      "        # Classify the site\n",
      "        if len(neighbours) == 5:\n",
      "          site = 'T1'\n",
      "        else:\n",
      "          site = 'T2'\n",
      "    \n",
      "        # Count the number of Si neighbours\n",
      "        num_Si = len(neighbours.species('Si'))\n",
      "        \n",
      "        bins[site][num_Si].append(abs(Al_atom.efg.Cq))\n",
      "\n",
      "bin_sites(orig_structures, Al_Cqs1)"
     ],
     "language": "python",
     "metadata": {},
     "outputs": [
      {
       "output_type": "stream",
       "stream": "stdout",
       "text": [
        "0 "
       ]
      },
      {
       "output_type": "stream",
       "stream": "stdout",
       "text": [
        "1 "
       ]
      },
      {
       "output_type": "stream",
       "stream": "stdout",
       "text": [
        "2 "
       ]
      },
      {
       "output_type": "stream",
       "stream": "stdout",
       "text": [
        "3 "
       ]
      },
      {
       "output_type": "stream",
       "stream": "stdout",
       "text": [
        "4 "
       ]
      },
      {
       "output_type": "stream",
       "stream": "stdout",
       "text": [
        "5 "
       ]
      },
      {
       "output_type": "stream",
       "stream": "stdout",
       "text": [
        "6 "
       ]
      },
      {
       "output_type": "stream",
       "stream": "stdout",
       "text": [
        "7 "
       ]
      },
      {
       "output_type": "stream",
       "stream": "stdout",
       "text": [
        "8 "
       ]
      },
      {
       "output_type": "stream",
       "stream": "stdout",
       "text": [
        "9 "
       ]
      },
      {
       "output_type": "stream",
       "stream": "stdout",
       "text": [
        "10 "
       ]
      },
      {
       "output_type": "stream",
       "stream": "stdout",
       "text": [
        "11 "
       ]
      },
      {
       "output_type": "stream",
       "stream": "stdout",
       "text": [
        "12 "
       ]
      },
      {
       "output_type": "stream",
       "stream": "stdout",
       "text": [
        "13 "
       ]
      },
      {
       "output_type": "stream",
       "stream": "stdout",
       "text": [
        "14 "
       ]
      },
      {
       "output_type": "stream",
       "stream": "stdout",
       "text": [
        "15 "
       ]
      },
      {
       "output_type": "stream",
       "stream": "stdout",
       "text": [
        "16 "
       ]
      },
      {
       "output_type": "stream",
       "stream": "stdout",
       "text": [
        "17 "
       ]
      },
      {
       "output_type": "stream",
       "stream": "stdout",
       "text": [
        "18 "
       ]
      },
      {
       "output_type": "stream",
       "stream": "stdout",
       "text": [
        "19 "
       ]
      },
      {
       "output_type": "stream",
       "stream": "stdout",
       "text": [
        "20 "
       ]
      },
      {
       "output_type": "stream",
       "stream": "stdout",
       "text": [
        "21 "
       ]
      },
      {
       "output_type": "stream",
       "stream": "stdout",
       "text": [
        "22 "
       ]
      },
      {
       "output_type": "stream",
       "stream": "stdout",
       "text": [
        "23\n"
       ]
      }
     ],
     "prompt_number": 5
    },
    {
     "cell_type": "markdown",
     "metadata": {},
     "source": [
      "Let's calculate the means and standard deviations for each site bin."
     ]
    },
    {
     "cell_type": "code",
     "collapsed": false,
     "input": [
      "def calc_stats(bins):\n",
      "    stats = {'T1': {},\n",
      "             'T2': {},}\n",
      "    \n",
      "    for site in bins:\n",
      "      for num_si in bins[site]:\n",
      "        print \"Al%s, n_si=%d, Cq=%.2f +- %.2f\" % (site, num_si, mean(bins[site][num_si]), std(bins[site][num_si]))\n",
      "        \n",
      "        stats[site][num_si] = {'mean': mean(bins[site][num_si]), 'stdev': std(bins[site][num_si])}\n",
      "\n",
      "        \n",
      "    return stats\n",
      "\n",
      "orig_stats = calc_stats(Al_Cqs1)"
     ],
     "language": "python",
     "metadata": {},
     "outputs": [
      {
       "output_type": "stream",
       "stream": "stdout",
       "text": [
        "AlT2, n_si=0, Cq=8.06 +- 1.55\n",
        "AlT2, n_si=1, Cq=10.70 +- 1.33\n",
        "AlT1, n_si=0, Cq=2.43 +- 0.84\n",
        "AlT1, n_si=1, Cq=7.40 +- 1.31\n",
        "AlT1, n_si=2, Cq=8.73 +- 1.20\n",
        "AlT1, n_si=3, Cq=8.03 +- 0.96\n",
        "AlT1, n_si=4, Cq=7.58 +- 0.79\n"
       ]
      }
     ],
     "prompt_number": 6
    },
    {
     "cell_type": "markdown",
     "metadata": {},
     "source": [
      "Loewenstein-rule obeying structures\n",
      "-----------------------------------"
     ]
    },
    {
     "cell_type": "code",
     "collapsed": false,
     "input": [
      "low_structures = load_all_magres('/home/tim/Downloads/magres-doc/workshop/tutorial_disordered/files/low')\n",
      "print \"We have {} structures\".format(len(low_structures))"
     ],
     "language": "python",
     "metadata": {},
     "outputs": [
      {
       "output_type": "stream",
       "stream": "stdout",
       "text": [
        "We have 25 structures\n"
       ]
      }
     ],
     "prompt_number": 7
    },
    {
     "cell_type": "code",
     "collapsed": false,
     "input": [
      "Al_Cqs2 = {'T1': {0: [], 1: [], 2: [], 3: [], 4: []},\n",
      "           'T2': {1: []},}"
     ],
     "language": "python",
     "metadata": {},
     "outputs": [],
     "prompt_number": 8
    },
    {
     "cell_type": "code",
     "collapsed": false,
     "input": [
      "bin_sites(low_structures, Al_Cqs2)"
     ],
     "language": "python",
     "metadata": {},
     "outputs": [
      {
       "output_type": "stream",
       "stream": "stdout",
       "text": [
        "0 "
       ]
      },
      {
       "output_type": "stream",
       "stream": "stdout",
       "text": [
        "1 "
       ]
      },
      {
       "output_type": "stream",
       "stream": "stdout",
       "text": [
        "2 "
       ]
      },
      {
       "output_type": "stream",
       "stream": "stdout",
       "text": [
        "3 "
       ]
      },
      {
       "output_type": "stream",
       "stream": "stdout",
       "text": [
        "4 "
       ]
      },
      {
       "output_type": "stream",
       "stream": "stdout",
       "text": [
        "5 "
       ]
      },
      {
       "output_type": "stream",
       "stream": "stdout",
       "text": [
        "6 "
       ]
      },
      {
       "output_type": "stream",
       "stream": "stdout",
       "text": [
        "7 "
       ]
      },
      {
       "output_type": "stream",
       "stream": "stdout",
       "text": [
        "8 "
       ]
      },
      {
       "output_type": "stream",
       "stream": "stdout",
       "text": [
        "9 "
       ]
      },
      {
       "output_type": "stream",
       "stream": "stdout",
       "text": [
        "10 "
       ]
      },
      {
       "output_type": "stream",
       "stream": "stdout",
       "text": [
        "11 "
       ]
      },
      {
       "output_type": "stream",
       "stream": "stdout",
       "text": [
        "12 "
       ]
      },
      {
       "output_type": "stream",
       "stream": "stdout",
       "text": [
        "13 "
       ]
      },
      {
       "output_type": "stream",
       "stream": "stdout",
       "text": [
        "14 "
       ]
      },
      {
       "output_type": "stream",
       "stream": "stdout",
       "text": [
        "15 "
       ]
      },
      {
       "output_type": "stream",
       "stream": "stdout",
       "text": [
        "16 "
       ]
      },
      {
       "output_type": "stream",
       "stream": "stdout",
       "text": [
        "17 "
       ]
      },
      {
       "output_type": "stream",
       "stream": "stdout",
       "text": [
        "18 "
       ]
      },
      {
       "output_type": "stream",
       "stream": "stdout",
       "text": [
        "19 "
       ]
      },
      {
       "output_type": "stream",
       "stream": "stdout",
       "text": [
        "20 "
       ]
      },
      {
       "output_type": "stream",
       "stream": "stdout",
       "text": [
        "21 "
       ]
      },
      {
       "output_type": "stream",
       "stream": "stdout",
       "text": [
        "22 "
       ]
      },
      {
       "output_type": "stream",
       "stream": "stdout",
       "text": [
        "23 "
       ]
      },
      {
       "output_type": "stream",
       "stream": "stdout",
       "text": [
        "24\n"
       ]
      }
     ],
     "prompt_number": 9
    },
    {
     "cell_type": "code",
     "collapsed": false,
     "input": [
      "low_stats = calc_stats(Al_Cqs2)"
     ],
     "language": "python",
     "metadata": {},
     "outputs": [
      {
       "output_type": "stream",
       "stream": "stdout",
       "text": [
        "AlT2, n_si=1, Cq=10.63 +- 0.53\n",
        "AlT1, n_si=0, Cq=1.01 +- 0.23\n",
        "AlT1, n_si=1, Cq=5.62 +- 0.35\n",
        "AlT1, n_si=2, Cq=7.26 +- 0.69\n",
        "AlT1, n_si=3, Cq=7.05 +- 0.34\n",
        "AlT1, n_si=4, Cq=7.93 +- 0.47\n"
       ]
      }
     ],
     "prompt_number": 10
    },
    {
     "cell_type": "code",
     "collapsed": false,
     "input": [],
     "language": "python",
     "metadata": {},
     "outputs": [],
     "prompt_number": 10
    }
   ],
   "metadata": {}
  }
 ]
}